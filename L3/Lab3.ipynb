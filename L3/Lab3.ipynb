{
 "cells": [
  {
   "cell_type": "code",
   "execution_count": 10,
   "id": "8f54f0a0",
   "metadata": {},
   "outputs": [],
   "source": [
    "import pandas as pd\n",
    "import numpy as np\n",
    "import matplotlib.pyplot as plt\n",
    "from sklearn.metrics import classification_report\n",
    "from sklearn.model_selection import train_test_split\n",
    "from sklearn.datasets import fetch_20newsgroups\n",
    "from sklearn.feature_extraction.text import CountVectorizer\n",
    "from sklearn.feature_extraction.text import TfidfTransformer\n",
    "from sklearn.pipeline import Pipeline\n",
    "from sklearn.naive_bayes import MultinomialNB\n",
    "from nltk.stem import *\n",
    "from nltk import word_tokenize\n",
    "import itertools\n",
    "\n",
    "from sklearn.model_selection import GridSearchCV\n",
    "from sklearn.neighbors import KNeighborsClassifier\n",
    "from sklearn.tree import DecisionTreeClassifier\n",
    "from sklearn.datasets import load_iris\n",
    "from sklearn.linear_model import LogisticRegression\n",
    "from sklearn import metrics\n",
    "from sklearn.utils._testing import ignore_warnings \n",
    "from sklearn.exceptions import FitFailedWarning, ConvergenceWarning "
   ]
  },
  {
   "cell_type": "code",
   "execution_count": 5,
   "id": "43233635",
   "metadata": {},
   "outputs": [],
   "source": [
    "categories = ['alt.atheism', 'sci.space', 'soc.religion.christian']\n",
    "remove = ['headers', 'footers', 'quotes']\n",
    "twenty_train = fetch_20newsgroups(subset='train', shuffle=True, random_state=2, categories = categories, remove = remove)\n",
    "twenty_test = fetch_20newsgroups(subset='test', shuffle=True, random_state=2, categories = categories, remove = remove)\n",
    "twenty_train = pd.DataFrame(twenty_train, columns=['data', 'target']).replace(to_replace=[r\"\\\\t|\\\\n|\\\\r\", \"\\t|\\n|\\r\"], value=[\"\",\"\"], regex=True)\n",
    "twenty_test = pd.DataFrame(twenty_test, columns=['data', 'target']).replace(to_replace=[r\"\\\\t|\\\\n|\\\\r\", \"\\t|\\n|\\r\"], value=[\"\",\"\"], regex=True)"
   ]
  },
  {
   "cell_type": "code",
   "execution_count": 3,
   "id": "4c95ef96",
   "metadata": {},
   "outputs": [],
   "source": [
    "def stm(text):\n",
    "    ps = PorterStemmer()\n",
    "    nltk_tokens = word_tokenize(text)\n",
    "    result = ''\n",
    "    for word in nltk_tokens:\n",
    "        result += ' ' + ps.stem(word)\n",
    "    return result"
   ]
  },
  {
   "cell_type": "code",
   "execution_count": 6,
   "id": "5b0a6b9f",
   "metadata": {},
   "outputs": [],
   "source": [
    "twenty_train.insert(loc=1, column='data_stemmed', value=twenty_train['data'].apply(lambda text: stm(text)))\n",
    "twenty_test.insert(loc=1, column='data_stemmed', value=twenty_test['data'].apply(lambda text: stm(text)))"
   ]
  },
  {
   "cell_type": "code",
   "execution_count": 12,
   "id": "05df85f0",
   "metadata": {},
   "outputs": [
    {
     "ename": "SyntaxError",
     "evalue": "closing parenthesis ']' does not match opening parenthesis '{' on line 1 (<unknown>, line 29)",
     "output_type": "error",
     "traceback": [
      "Traceback \u001b[1;36m(most recent call last)\u001b[0m:\n",
      "  File \u001b[0;32mC:\\ProgramData\\Anaconda3\\lib\\site-packages\\IPython\\core\\interactiveshell.py:3369\u001b[0m in \u001b[0;35mrun_code\u001b[0m\n    exec(code_obj, self.user_global_ns, self.user_ns)\n",
      "  Input \u001b[0;32mIn [12]\u001b[0m in \u001b[0;35m<cell line: 1>\u001b[0m\n    get_ipython().run_cell_magic('time', '', \"parameters = {\\n    'KNeighborsClassifier': {\\n        'vect__max_features': (1000,5000,10000),\\n        'vect__stop_words': ('english', None),\\n        'tfidf__use_idf': (True, False),\\n        'clf__n_neighbors': (1, 3, 5, 10),\\n        'clf__p': (1, 2)\\n    },\\n    'LogisticRegression': {\\n        'vect__max_features': (1000,5000,10000),\\n        'vect__stop_words': ('english', None),\\n        'tfidf__use_idf': (True, False),\\n        'clf__solver': ('lbfgs', 'newton-cg', 'sag', 'saga'),\\n        'clf__penalty': ['None']\\n    },\\n    'DecisionTreeClassifier': {\\n        'vect__max_features': (1000,5000,10000),\\n        'vect__stop_words': ('english', None),\\n        'tfidf__use_idf': (True, False),\\n        'clf__criterion': ('gini', 'entropy'),\\n        'clf__max_depth': [*range(1,5,1), *range(5,101,20)]\\n    },\\n        {\\n        'vect__max_features': (1000,5000,10000),\\n        'vect__stop_words': ('english', None),\\n        'tfidf__use_idf': (True, False),\\n        'clf__loss': ['hinge'],\\n        'clf__penalty': ['l2']\\n    }],\\n}\\n\\ngs = {}\\nfor clf, param in parameters.items():\\n    text_clf = Pipeline([\\n        ('vect', CountVectorizer()),\\n        ('tfidf', TfidfTransformer()),\\n        ('clf', eval(clf)())\\n    ])\\n    gs[clf] = GridSearchCV(text_clf, param, n_jobs=-1, error_score=0.0)\\n    gs[clf].fit(X = twenty_train['data'], y = twenty_train['target'])\\n\")\n",
      "  File \u001b[0;32mC:\\ProgramData\\Anaconda3\\lib\\site-packages\\IPython\\core\\interactiveshell.py:2347\u001b[0m in \u001b[0;35mrun_cell_magic\u001b[0m\n    result = fn(*args, **kwargs)\n",
      "  File \u001b[0;32mC:\\ProgramData\\Anaconda3\\lib\\site-packages\\IPython\\core\\magics\\execution.py:1272\u001b[0m in \u001b[0;35mtime\u001b[0m\n    expr_ast = self.shell.compile.ast_parse(expr)\n",
      "\u001b[1;36m  File \u001b[1;32mC:\\ProgramData\\Anaconda3\\lib\\site-packages\\IPython\\core\\compilerop.py:105\u001b[1;36m in \u001b[1;35mast_parse\u001b[1;36m\u001b[0m\n\u001b[1;33m    return compile(source, filename, symbol, self.flags | PyCF_ONLY_AST, 1)\u001b[0m\n",
      "\u001b[1;36m  File \u001b[1;32m<unknown>:29\u001b[1;36m\u001b[0m\n\u001b[1;33m    }],\u001b[0m\n\u001b[1;37m     ^\u001b[0m\n\u001b[1;31mSyntaxError\u001b[0m\u001b[1;31m:\u001b[0m closing parenthesis ']' does not match opening parenthesis '{' on line 1\n"
     ]
    }
   ],
   "source": [
    "%%time\n",
    "parameters = {\n",
    "    'KNeighborsClassifier': {\n",
    "        'vect__max_features': (1000,5000,10000),\n",
    "        'vect__stop_words': ('english', None),\n",
    "        'tfidf__use_idf': (True, False),\n",
    "        'clf__n_neighbors': (1, 3, 5, 10),\n",
    "        'clf__p': (1, 2)\n",
    "    },\n",
    "    'LogisticRegression': {\n",
    "        'vect__max_features': (1000,5000,10000),\n",
    "        'vect__stop_words': ('english', None),\n",
    "        'tfidf__use_idf': (True, False),\n",
    "        'clf__solver': ('lbfgs', 'newton-cg', 'sag', 'saga'),\n",
    "        'clf__penalty': ['None']\n",
    "    },\n",
    "    'DecisionTreeClassifier': {\n",
    "        'vect__max_features': (1000,5000,10000),\n",
    "        'vect__stop_words': ('english', None),\n",
    "        'tfidf__use_idf': (True, False),\n",
    "        'clf__criterion': ('gini', 'entropy'),\n",
    "        'clf__max_depth': [*range(1,5,1), *range(5,101,20)]\n",
    "    },\n",
    "        {\n",
    "        'vect__max_features': (1000,5000,10000),\n",
    "        'vect__stop_words': ('english', None),\n",
    "        'tfidf__use_idf': (True, False),\n",
    "        'clf__loss': ['hinge'],\n",
    "        'clf__penalty': ['l2']\n",
    "    }],\n",
    "}\n",
    "\n",
    "gs = {}\n",
    "for clf, param in parameters.items():\n",
    "    text_clf = Pipeline([\n",
    "        ('vect', CountVectorizer()),\n",
    "        ('tfidf', TfidfTransformer()),\n",
    "        ('clf', eval(clf)())\n",
    "    ])\n",
    "    gs[clf] = GridSearchCV(text_clf, param, n_jobs=-1, error_score=0.0)\n",
    "    gs[clf].fit(X = twenty_train['data'], y = twenty_train['target'])"
   ]
  },
  {
   "cell_type": "code",
   "execution_count": 13,
   "id": "b371e48a",
   "metadata": {},
   "outputs": [
    {
     "name": "stdout",
     "output_type": "stream",
     "text": [
      "                        precision    recall  f1-score   support\n",
      "\n",
      "           alt.atheism       0.42      0.43      0.43       319\n",
      "             sci.space       0.62      0.48      0.54       394\n",
      "soc.religion.christian       0.51      0.62      0.56       398\n",
      "\n",
      "              accuracy                           0.51      1111\n",
      "             macro avg       0.52      0.51      0.51      1111\n",
      "          weighted avg       0.52      0.51      0.51      1111\n",
      "\n",
      "                        precision    recall  f1-score   support\n",
      "\n",
      "           alt.atheism       0.57      0.40      0.47       319\n",
      "             sci.space       0.65      0.87      0.74       394\n",
      "soc.religion.christian       0.69      0.63      0.66       398\n",
      "\n",
      "              accuracy                           0.65      1111\n",
      "             macro avg       0.64      0.63      0.63      1111\n",
      "          weighted avg       0.64      0.65      0.64      1111\n",
      "\n",
      "                        precision    recall  f1-score   support\n",
      "\n",
      "           alt.atheism       0.80      0.59      0.68       319\n",
      "             sci.space       0.80      0.94      0.86       394\n",
      "soc.religion.christian       0.80      0.84      0.82       398\n",
      "\n",
      "              accuracy                           0.80      1111\n",
      "             macro avg       0.80      0.79      0.79      1111\n",
      "          weighted avg       0.80      0.80      0.79      1111\n",
      "\n"
     ]
    }
   ],
   "source": [
    "for clf, param in parameters.items():\n",
    "    predicted = gs[clf].predict(twenty_test['data'])\n",
    "    print(metrics.classification_report(twenty_test.target, predicted, target_names=categories))"
   ]
  },
  {
   "cell_type": "code",
   "execution_count": 16,
   "id": "a8ff0505",
   "metadata": {},
   "outputs": [],
   "source": [
    "r = {}\n",
    "def highlight_max(x, color):\n",
    "\n",
    "    return np.where(x == np.nanmax(x.to_numpy()), f\"color: {color};\", None)\n",
    "\n",
    "total_style = pd.Series(\"font-weight: bold;\", index=[1])\n",
    "\n",
    "for clf, param in parameters.items():\n",
    "    predicted = gs[clf].predict(twenty_test['data'])\n",
    "    \n",
    "    pd.DataFrame(gs[clf].cv_results_).to_excel('all' + clf + '.xlsx')\n",
    "    pd.DataFrame(classification_report(predicted, twenty_test.target, output_dict=True)).to_excel('best' + clf + '.xlsx')\n",
    "    "
   ]
  }
 ],
 "metadata": {
  "kernelspec": {
   "display_name": "Python 3 (ipykernel)",
   "language": "python",
   "name": "python3"
  },
  "language_info": {
   "codemirror_mode": {
    "name": "ipython",
    "version": 3
   },
   "file_extension": ".py",
   "mimetype": "text/x-python",
   "name": "python",
   "nbconvert_exporter": "python",
   "pygments_lexer": "ipython3",
   "version": "3.9.12"
  }
 },
 "nbformat": 4,
 "nbformat_minor": 5
}
