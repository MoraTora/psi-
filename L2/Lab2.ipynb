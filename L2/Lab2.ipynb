{
 "cells": [
  {
   "cell_type": "code",
   "execution_count": 63,
   "id": "9fb444ff",
   "metadata": {},
   "outputs": [],
   "source": [
    "import pandas as pd\n",
    "import numpy as np\n",
    "from sklearn.metrics import confusion_matrix\n",
    "from sklearn.metrics import classification_report\n",
    "from sklearn.metrics import accuracy_score\n",
    "from sklearn.pipeline import Pipeline\n",
    "from sklearn.datasets import fetch_20newsgroups\n",
    "from sklearn.feature_extraction.text import CountVectorizer\n",
    "from sklearn.feature_extraction.text import TfidfVectorizer\n",
    "from sklearn.naive_bayes import MultinomialNB\n",
    "from sklearn.model_selection import GridSearchCV\n",
    "from sklearn.metrics import confusion_matrix\n",
    "from sklearn.metrics import classification_report\n",
    "from sklearn.metrics import accuracy_score\n",
    "\n",
    "\n",
    "from sklearn.feature_extraction.text import TfidfTransformer\n",
    "from nltk.stem import *\n",
    "from nltk import word_tokenize\n",
    "import os\n",
    "import itertools"
   ]
  },
  {
   "cell_type": "code",
   "execution_count": 22,
   "id": "bd5c29bf",
   "metadata": {},
   "outputs": [],
   "source": [
    "categories = ['alt.atheism', 'sci.space', 'soc.religion.christian']\n",
    "remove = ('headers', 'footers', 'quotes')\n",
    "t_train = fetch_20newsgroups(subset='train', shuffle=True, random_state=2, categories = categories, remove = remove)\n",
    "t_test = fetch_20newsgroups(subset='test', shuffle=True, random_state=2, categories = categories, remove = remove)\n",
    "\n",
    "twenty_train = dict()\n",
    "twenty_test = dict()\n",
    "for c in categories:\n",
    "    twenty_train[c] = fetch_20newsgroups(subset='train', shuffle=True, random_state=2, categories = [c], remove = remove)\n",
    "    twenty_test[c] = fetch_20newsgroups(subset='test', shuffle=True, random_state=2, categories = [c], remove = remove)\n",
    "    twenty_train[c] = twenty_train[c].data\n",
    "    twenty_test[c] = twenty_test[c].data\n",
    "twenty_train['full'] = t_train.data\n",
    "twenty_test['full'] = t_test.data"
   ]
  },
  {
   "cell_type": "code",
   "execution_count": 26,
   "id": "1cb180e7",
   "metadata": {},
   "outputs": [
    {
     "name": "stdout",
     "output_type": "stream",
     "text": [
      "\n",
      ": Upon arriving at home, Joseph probably took advantage of Mary...had his way\n",
      ": with her so to speak.  Of course, word of this couldn't get around so Mary,\n",
      ": being the highly-religious follower that she was decided \"Hey, I'll just say\n",
      ": that GOD impregnated me...no one will ever know!\"\n",
      ": \n",
      ": Thus, seen as a trustworthy and honorable soul, she was believed...\n",
      ":     \n",
      ": And then came Jesus, the child born from violence.\n",
      ": \n",
      ": \n",
      ": \n",
      "\n",
      "Dave,\n",
      "\n",
      "Can you explain the purpose of your post, I can't imagine what you\n",
      "must have thougt it meant.  \n",
      "----------------\n",
      "\n",
      "I don't think you're going to be able to see the differences from a sphere\n",
      "unless they are greatly exaggerated.  Even the equatorial bulge is only\n",
      "about 1 part in 300 -- you'd never notice a 1mm error in a 30cm globe --\n",
      "and the other deviations from spherical shape are much smaller. \n",
      "----------------\n",
      "My family has never been particularly religious - singing Christmas\n",
      "carols is about the limit for them. Thus I've never really believed in God and\n",
      "heaven, although I don't actually believe that they don't exist either -\n",
      "I'm sort of undecided, probably like a lot of people I guess.\n",
      "        Lately I've been thinking about it all a lot more, and I wondered how\n",
      "religious people can be so convinced that there is a God. I feel as though\n",
      "I want to believe, but I'm not used to believing things without proof -\n",
      "just as I can't believe that there definitely isn't a God, so I can't\n",
      "definitely believe that there is. I wondered if most of you were brought up by\n",
      "religious families and never believed any different. Can anyone help me to\n",
      "understand how your belief and faith in God can be so strong.\n",
      "\n",
      "        Another question that frequently crosses my mind is which religion is\n",
      "correct?? How do you choose a religion, and how do you know that the Christian\n",
      "God exists and the Gods of other religions don't?? How do you feel about\n",
      "people who follow other religions?? How about atheists?? And people like me -\n",
      "agnostics I suppose. Do you respect their religion, and accept their\n",
      "beliefs as just as valid as your own?? Isn't there contradiction between\n",
      "the religions?? How can your religion be more valid than any others?? Do\n",
      "you have less respect for someone if they're not religious, or if they follow\n",
      "a different religion than you would if they were Christian??\n",
      "\n",
      "        Also, how much of the scriptures are correct?? Are all events in\n",
      "the bible really supposed to have happened, or are they just supposed to be\n",
      "stories with morals showing a true Christian how to behave??\n",
      "\n",
      "        I generally follow most of the Christian ideas, which I suppose are\n",
      "fairly universal throughout all religions - not killing, stealing, etc, and\n",
      "'Loving my neighbour' for want of a better expression. The only part I find\n",
      "hard is the actual belief in God.\n",
      "\n",
      "        Finally, what is God's attitude to people like me, who don't quite\n",
      "believe in Him, but are generally fairly 'good' people. Surely not\n",
      "believing doesn't make me a worse person?? If not, I find myself wondering why\n",
      "I so strongly want to really believe, and to find a religion.\n",
      "\n",
      "        Sorry if I waffled on a bit - I was just writing ideas as they came\n",
      "into my head. I'm sure I probably repeated myself a bit too.\n",
      "\n",
      "                        Thanks for the help,\n",
      "                                Paul Simmons \n",
      "----------------\n"
     ]
    }
   ],
   "source": [
    "print (twenty_train['alt.atheism'][0], \"\\n----------------\")\n",
    "print (twenty_train['sci.space'][0], \"\\n----------------\")\n",
    "print (twenty_train['soc.religion.christian'][0], \"\\n----------------\")"
   ]
  },
  {
   "cell_type": "code",
   "execution_count": 30,
   "id": "2a1ffe99",
   "metadata": {},
   "outputs": [],
   "source": [
    "def stem(text):\n",
    "    porter_stemmer = PorterStemmer()\n",
    "    result = []\n",
    "    for t in text:\n",
    "        nltk_tokens = word_tokenize(t)\n",
    "        line = ''\n",
    "        for word in nltk_tokens:\n",
    "            line += ' ' + porter_stemmer.stem(word)\n",
    "        result.append(line)\n",
    "    return result"
   ]
  },
  {
   "cell_type": "code",
   "execution_count": 48,
   "id": "a13bc909",
   "metadata": {},
   "outputs": [],
   "source": [
    "def SortbyTF(inputStr):\n",
    "    return inputStr[1]\n",
    "\n",
    "def top_list(vect, data, count):\n",
    "    x = list(zip(vect.get_feature_names(),np.ravel(data.sum(axis=0))))\n",
    "    x.sort(key=SortbyTF, reverse = True)\n",
    "    return x[:count]\n",
    "\n",
    "def vectorize(train, categories):\n",
    "    categories.append('full')\n",
    "    mux = pd.MultiIndex.from_product([['Count','TF','TF-IDF'], ['Без стоп-слов','С стоп-cловами']])\n",
    "    result = dict()\n",
    "    for c in categories:\n",
    "        result[c] = pd.DataFrame(columns=mux)\n",
    "    \n",
    "    stop_words = [None, 'english']\n",
    "    idf = [False, True]\n",
    "    \n",
    "    indx_stop = {\n",
    "        'english': 'Без стоп-слов',\n",
    "        None: 'С стоп-cловами'\n",
    "    }\n",
    "    \n",
    "    indx_tf = {\n",
    "        False: 'TF',\n",
    "        True: 'TF-IDF'\n",
    "    }\n",
    "    for c in categories:\n",
    "        for stop in stop_words:  \n",
    "            vect = CountVectorizer(max_features=10000, stop_words=stop)\n",
    "            vect.fit(train[c])\n",
    "            train_data = vect.transform(train[c])\n",
    "            result[c]['Count', indx_stop[stop]] = top_list(vect, train_data, 20)\n",
    "            \n",
    "            for tf in idf:\n",
    "                tfidf = TfidfTransformer(use_idf = tf).fit(train_data)\n",
    "                train_fidf = tfidf.transform(train_data)\n",
    "                result[c][indx_tf[tf], indx_stop[stop]] = top_list(vect, train_fidf, 20)\n",
    "    return result"
   ]
  },
  {
   "cell_type": "code",
   "execution_count": 41,
   "id": "14b77729",
   "metadata": {},
   "outputs": [],
   "source": [
    "train_s = dict()\n",
    "test_s = dict()\n",
    "for с in categories:\n",
    "    train_s[с] = stem(twenty_train[с])\n",
    "    test_s[с] = stem(twenty_test[с])\n",
    "\n",
    "train_s['full'] = stem(twenty_train['full'])\n",
    "test_s['full'] = stem(twenty_train['full'])"
   ]
  },
  {
   "cell_type": "code",
   "execution_count": 49,
   "id": "f22d28b9",
   "metadata": {},
   "outputs": [
    {
     "name": "stderr",
     "output_type": "stream",
     "text": [
      "C:\\ProgramData\\Anaconda3\\lib\\site-packages\\sklearn\\utils\\deprecation.py:87: FutureWarning: Function get_feature_names is deprecated; get_feature_names is deprecated in 1.0 and will be removed in 1.2. Please use get_feature_names_out instead.\n",
      "  warnings.warn(msg, category=FutureWarning)\n",
      "C:\\ProgramData\\Anaconda3\\lib\\site-packages\\sklearn\\utils\\deprecation.py:87: FutureWarning: Function get_feature_names is deprecated; get_feature_names is deprecated in 1.0 and will be removed in 1.2. Please use get_feature_names_out instead.\n",
      "  warnings.warn(msg, category=FutureWarning)\n"
     ]
    }
   ],
   "source": [
    "summ_without_stem = vectorize(twenty_train, categories)\n",
    "summ_with_stem = vectorize(train_s, categories)\n",
    "\n",
    "for c in ['full'] + categories:\n",
    "    summ_without_stem[c].to_excel('without_stem_' + c + '.xlsx')\n",
    "    summ_with_stem[c].to_excel('with_stem_' + c + '.xlsx')"
   ]
  },
  {
   "cell_type": "code",
   "execution_count": 54,
   "id": "1ce9221c",
   "metadata": {},
   "outputs": [],
   "source": [
    "def prespocess(data, max_features, stop_words, use_tf, use_idf):\n",
    "    tf = None\n",
    "    cv = CountVectorizer(max_features=max_features, stop_words=stop_words).fit(data)\n",
    "    if use_tf:\n",
    "        tf = TfidfTransformer(use_idf=use_idf).fit(cv.transform(data))\n",
    "    return cv, tf\n",
    "\n",
    "def models_grid_search(data_train, data_test):\n",
    "    max_features = [100,500,1000,5000,10000]\n",
    "    stop_words = ['english', None]\n",
    "    use_tf = [True, False]\n",
    "    use_idf = [True, False]\n",
    "    \n",
    "    res = dict()\n",
    "    for param in itertools.product(max_features, stop_words, use_tf, use_idf):\n",
    "        cv, tf = prespocess(data_train.data, param[0], param[1], param[2], param[3])\n",
    "        if tf:\n",
    "            clf = MultinomialNB().fit(tf.transform(cv.transform(data_train.data)), data_train.target)\n",
    "            prep_test = tf.transform(cv.transform(data_test.data))\n",
    "        else:\n",
    "            clf = MultinomialNB().fit(cv.transform(data_train.data), data_train.target)\n",
    "            prep_test = cv.transform(data_test.data)\n",
    "        \n",
    "        name = f'max_features={param[0]}_stop_words={param[1]}_use_tf={param[2]}_use_idf={param[3]}'\n",
    "        res[name] = pd.DataFrame(classification_report(clf.predict(prep_test), data_test.target, output_dict=True))  \n",
    "    return res"
   ]
  },
  {
   "cell_type": "code",
   "execution_count": 67,
   "id": "e622d771",
   "metadata": {},
   "outputs": [
    {
     "name": "stdout",
     "output_type": "stream",
     "text": [
      "              precision    recall  f1-score   support\n",
      "\n",
      "           0       0.46      0.87      0.61       170\n",
      "           1       0.87      0.90      0.88       384\n",
      "           2       0.95      0.68      0.79       557\n",
      "\n",
      "    accuracy                           0.78      1111\n",
      "   macro avg       0.76      0.82      0.76      1111\n",
      "weighted avg       0.85      0.78      0.80      1111\n",
      "\n"
     ]
    }
   ],
   "source": [
    "categories = ['alt.atheism', 'sci.space', 'soc.religion.christian']\n",
    "remove = ('headers', 'footers', 'quotes')\n",
    "t_train = fetch_20newsgroups(subset='train', shuffle=True, random_state=2, categories = categories, remove = remove)\n",
    "t_test = fetch_20newsgroups(subset='test', shuffle=True, random_state=2, categories = categories, remove = remove)\n",
    "scores = models_grid_search(t_train, t_test)\n",
    "if not os.path.exists('scores'):\n",
    "    os.makedirs('scores')\n",
    "    \n",
    "for name, score in scores.items():\n",
    "    score.to_excel('scores/' + name + '.xlsx')\n",
    "\n",
    "parameters = {\n",
    "    'vect__max_features': (100,500,1000,5000,10000),\n",
    "    'vect__stop_words': ('english', None),\n",
    "    'tfidf__use_idf': (True, False),\n",
    "}\n",
    "\n",
    "text_clf = Pipeline([\n",
    "    ('vect', CountVectorizer()),\n",
    "    ('tfidf', TfidfTransformer()),\n",
    "    ('clf', MultinomialNB())\n",
    "])\n",
    "\n",
    "gs_clf = GridSearchCV(text_clf, parameters, n_jobs=-1, cv=3)\n",
    "gs_clf.fit(X = t_train.data, y = t_train.target)\n",
    "print(classification_report(gs_clf.predict(t_test.data), t_test.target))"
   ]
  },
  {
   "cell_type": "code",
   "execution_count": 12,
   "id": "5a81470c",
   "metadata": {},
   "outputs": [
    {
     "name": "stdout",
     "output_type": "stream",
     "text": [
      "              precision    recall  f1-score   support\n",
      "\n",
      "           0       0.47      0.73      0.57       205\n",
      "           1       0.85      0.83      0.84       404\n",
      "           2       0.86      0.69      0.76       502\n",
      "\n",
      "    accuracy                           0.75      1111\n",
      "   macro avg       0.73      0.75      0.73      1111\n",
      "weighted avg       0.79      0.75      0.76      1111\n",
      "\n"
     ]
    }
   ],
   "source": [
    "print(classification_report(prediction, twenty_test.target))"
   ]
  },
  {
   "cell_type": "code",
   "execution_count": null,
   "id": "773f5fab",
   "metadata": {},
   "outputs": [],
   "source": []
  }
 ],
 "metadata": {
  "kernelspec": {
   "display_name": "Python 3 (ipykernel)",
   "language": "python",
   "name": "python3"
  },
  "language_info": {
   "codemirror_mode": {
    "name": "ipython",
    "version": 3
   },
   "file_extension": ".py",
   "mimetype": "text/x-python",
   "name": "python",
   "nbconvert_exporter": "python",
   "pygments_lexer": "ipython3",
   "version": "3.9.12"
  }
 },
 "nbformat": 4,
 "nbformat_minor": 5
}
